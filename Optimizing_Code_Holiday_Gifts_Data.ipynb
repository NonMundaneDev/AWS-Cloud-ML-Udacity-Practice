{
  "nbformat": 4,
  "nbformat_minor": 0,
  "metadata": {
    "colab": {
      "name": "Optimizing_Code_Holiday_Gifts_Data",
      "provenance": [],
      "authorship_tag": "ABX9TyPV4OPTN4DQAztKGWDhz6G8",
      "include_colab_link": true
    },
    "kernelspec": {
      "name": "python3",
      "display_name": "Python 3"
    }
  },
  "cells": [
    {
      "cell_type": "markdown",
      "metadata": {
        "id": "view-in-github",
        "colab_type": "text"
      },
      "source": [
        "<a href=\"https://colab.research.google.com/github/NonMundaneDev/AWS-Cloud-ML-Udacity-Practice/blob/master/Optimizing_Code_Holiday_Gifts_Data.ipynb\" target=\"_parent\"><img src=\"https://colab.research.google.com/assets/colab-badge.svg\" alt=\"Open In Colab\"/></a>"
      ]
    },
    {
      "cell_type": "markdown",
      "metadata": {
        "id": "JSmDbDFV61vN",
        "colab_type": "text"
      },
      "source": [
        "## Optimizing Code: Holiday Gifts Data"
      ]
    },
    {
      "cell_type": "code",
      "metadata": {
        "id": "x8T1X5Qa35hT",
        "colab_type": "code",
        "colab": {}
      },
      "source": [
        "import time\n",
        "import numpy as np"
      ],
      "execution_count": 0,
      "outputs": []
    },
    {
      "cell_type": "code",
      "metadata": {
        "id": "_P_WNkqt7JF-",
        "colab_type": "code",
        "colab": {}
      },
      "source": [
        "with open('gift_costs.txt') as f:\n",
        "    gift_costs = f.read().split('\\n')\n",
        "    \n",
        "gift_costs = np.array(gift_costs).astype(int)  # convert string to int"
      ],
      "execution_count": 0,
      "outputs": []
    },
    {
      "cell_type": "code",
      "metadata": {
        "id": "tp5uU23x7JY_",
        "colab_type": "code",
        "colab": {
          "base_uri": "https://localhost:8080/",
          "height": 34
        },
        "outputId": "c50df816-01a4-4adc-bf44-3292e8ceb17d"
      },
      "source": [
        "gift_costs"
      ],
      "execution_count": 5,
      "outputs": [
        {
          "output_type": "execute_result",
          "data": {
            "text/plain": [
              "array([ 8, 84, 42, ..., 51, 54,  2])"
            ]
          },
          "metadata": {
            "tags": []
          },
          "execution_count": 5
        }
      ]
    },
    {
      "cell_type": "markdown",
      "metadata": {
        "id": "14yOShRs7rw4",
        "colab_type": "text"
      },
      "source": [
        "Say your online gift store has one million users that each listed a gift on a wish list. You have the prices for each of these gifts stored in `gift_costs.txt`. For the holidays, you're going to give each customer their wish list gift for free if it is under 25 dollars. Now, you want to calculate the total cost of all gifts under 25 dollars to see how much you'd spend on free gifts. Here's one way you could've done it...\n",
        "\n",
        "CLUNKY CODE:\n"
      ]
    },
    {
      "cell_type": "code",
      "metadata": {
        "id": "ONss3RBq7W95",
        "colab_type": "code",
        "colab": {
          "base_uri": "https://localhost:8080/",
          "height": 51
        },
        "outputId": "015bcb42-a646-4aac-c526-275871d602e8"
      },
      "source": [
        "start = time.time()\n",
        "\n",
        "total_price = 0\n",
        "for cost in gift_costs:\n",
        "    if cost < 25:\n",
        "        total_price += cost * 1.08  # add cost after tax\n",
        "\n",
        "print(total_price)\n",
        "print('Duration: {} seconds'.format(time.time() - start))"
      ],
      "execution_count": 6,
      "outputs": [
        {
          "output_type": "stream",
          "text": [
            "3546337.6799999964\n",
            "Duration: 0.960162878036499 seconds\n"
          ],
          "name": "stdout"
        }
      ]
    },
    {
      "cell_type": "markdown",
      "metadata": {
        "id": "V52Lmsrn73sh",
        "colab_type": "text"
      },
      "source": [
        "## Refactored Code"
      ]
    },
    {
      "cell_type": "code",
      "metadata": {
        "id": "w_kqDKPf-eP_",
        "colab_type": "code",
        "colab": {
          "base_uri": "https://localhost:8080/",
          "height": 34
        },
        "outputId": "0afa5865-3ece-46d7-d732-6e70b2f6302b"
      },
      "source": [
        "gift_costs < 25"
      ],
      "execution_count": 15,
      "outputs": [
        {
          "output_type": "execute_result",
          "data": {
            "text/plain": [
              "array([ True, False, False, ..., False, False,  True])"
            ]
          },
          "metadata": {
            "tags": []
          },
          "execution_count": 15
        }
      ]
    },
    {
      "cell_type": "code",
      "metadata": {
        "id": "CYYGAUUC-gQh",
        "colab_type": "code",
        "colab": {
          "base_uri": "https://localhost:8080/",
          "height": 34
        },
        "outputId": "0e847dd4-a7a0-4caf-c85d-5c572ecfa3b5"
      },
      "source": [
        "gift_costs[gift_costs < 25]"
      ],
      "execution_count": 16,
      "outputs": [
        {
          "output_type": "execute_result",
          "data": {
            "text/plain": [
              "array([ 8, 23, 22, ..., 12, 13,  2])"
            ]
          },
          "metadata": {
            "tags": []
          },
          "execution_count": 16
        }
      ]
    },
    {
      "cell_type": "code",
      "metadata": {
        "id": "XofsVCqi7zQn",
        "colab_type": "code",
        "colab": {
          "base_uri": "https://localhost:8080/",
          "height": 51
        },
        "outputId": "4424121d-3d64-43ab-a6c1-c0045595845b"
      },
      "source": [
        "## Using numpy's handy np.sum function\n",
        "\n",
        "start = time.time()\n",
        "\n",
        "total_price =  np.sum(gift_costs[gift_costs < 25]) * 1.08\n",
        "\n",
        "print(total_price)\n",
        "print('Duration: {} seconds'.format(time.time() - start))"
      ],
      "execution_count": 14,
      "outputs": [
        {
          "output_type": "stream",
          "text": [
            "3546337.68\n",
            "Duration: 0.011751413345336914 seconds\n"
          ],
          "name": "stdout"
        }
      ]
    },
    {
      "cell_type": "code",
      "metadata": {
        "id": "XtRfgdkLUBrJ",
        "colab_type": "code",
        "colab": {
          "base_uri": "https://localhost:8080/",
          "height": 34
        },
        "outputId": "de24267d-f9e0-47f5-c4c7-a70f89ac87b1"
      },
      "source": [
        "print(\"{} Seconds.\".format(0.960162878036499 - 0.011751413345336914))"
      ],
      "execution_count": 24,
      "outputs": [
        {
          "output_type": "stream",
          "text": [
            "0.9484114646911621 Seconds.\n"
          ],
          "name": "stdout"
        }
      ]
    },
    {
      "cell_type": "markdown",
      "metadata": {
        "id": "DtKfYDUY-iQ1",
        "colab_type": "text"
      },
      "source": [
        "Significant boost in performance!"
      ]
    },
    {
      "cell_type": "code",
      "metadata": {
        "id": "kIuJOwzt9wJ5",
        "colab_type": "code",
        "colab": {}
      },
      "source": [
        ""
      ],
      "execution_count": 0,
      "outputs": []
    }
  ]
}