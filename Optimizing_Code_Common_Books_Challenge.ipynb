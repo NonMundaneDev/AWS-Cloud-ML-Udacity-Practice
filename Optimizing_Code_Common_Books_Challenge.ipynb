{
  "nbformat": 4,
  "nbformat_minor": 0,
  "metadata": {
    "colab": {
      "name": "Optimizing Code - Common Books Challenge.ipynb",
      "provenance": [],
      "toc_visible": true,
      "authorship_tag": "ABX9TyOOXP63+dkxHOo70+y9T6CW",
      "include_colab_link": true
    },
    "kernelspec": {
      "name": "python3",
      "display_name": "Python 3"
    }
  },
  "cells": [
    {
      "cell_type": "markdown",
      "metadata": {
        "id": "view-in-github",
        "colab_type": "text"
      },
      "source": [
        "<a href=\"https://colab.research.google.com/github/NonMundaneDev/AWS-Cloud-ML-Udacity-Practice/blob/master/Optimizing_Code_Common_Books_Challenge.ipynb\" target=\"_parent\"><img src=\"https://colab.research.google.com/assets/colab-badge.svg\" alt=\"Open In Colab\"/></a>"
      ]
    },
    {
      "cell_type": "markdown",
      "metadata": {
        "id": "OtiIYgYEZcns",
        "colab_type": "text"
      },
      "source": [
        "## Optimizing Code Exercises\n",
        "\n",
        "Comparing the time it takes for each code snippets to run..."
      ]
    },
    {
      "cell_type": "code",
      "metadata": {
        "id": "gXaG5jSLUdR4",
        "colab_type": "code",
        "colab": {}
      },
      "source": [
        "import time\n",
        "import pandas as pd\n",
        "import numpy as np\n",
        "\n"
      ],
      "execution_count": 0,
      "outputs": []
    },
    {
      "cell_type": "code",
      "metadata": {
        "id": "UAzTOqoZZ1xI",
        "colab_type": "code",
        "colab": {}
      },
      "source": [
        "with open('books_published_last_two_years.txt') as f:\n",
        "    recent_books = f.read().split('\\n')\n",
        "    \n",
        "with open('all_coding_books.txt') as f:\n",
        "    coding_books = f.read().split('\\n')"
      ],
      "execution_count": 0,
      "outputs": []
    },
    {
      "cell_type": "markdown",
      "metadata": {
        "id": "aJI1P1EidFqB",
        "colab_type": "text"
      },
      "source": [
        "How efficient is a typical c-style for loop in handling the appending of the books in recent books that are coding books to a list comprehension?"
      ]
    },
    {
      "cell_type": "code",
      "metadata": {
        "id": "mQJGjT0paWHY",
        "colab_type": "code",
        "colab": {
          "base_uri": "https://localhost:8080/",
          "height": 51
        },
        "outputId": "b63ae6b2-9736-4952-df7d-ba10e939d086"
      },
      "source": [
        "\n",
        "start = time.time()\n",
        "recent_coding_books = []\n",
        "\n",
        "for book in recent_books:\n",
        "    if book in coding_books:\n",
        "        recent_coding_books.append(book)\n",
        "\n",
        "print(len(recent_coding_books))\n",
        "print('Duration: {} seconds'.format(time.time() - start))"
      ],
      "execution_count": 8,
      "outputs": [
        {
          "output_type": "stream",
          "text": [
            "96\n",
            "Duration: 12.159317016601562 seconds\n"
          ],
          "name": "stdout"
        }
      ]
    },
    {
      "cell_type": "code",
      "metadata": {
        "id": "WIlpFYo_dAeV",
        "colab_type": "code",
        "colab": {
          "base_uri": "https://localhost:8080/",
          "height": 51
        },
        "outputId": "d9b18a21-d055-41ba-be28-0f5f4fae09d0"
      },
      "source": [
        "start = time.time()\n",
        "recent_coding_books = [book for book in recent_books if book in coding_books]\n",
        "\n",
        "print(len(recent_coding_books))\n",
        "print('Duration: {} seconds'.format(time.time() - start))"
      ],
      "execution_count": 9,
      "outputs": [
        {
          "output_type": "stream",
          "text": [
            "96\n",
            "Duration: 12.211963415145874 seconds\n"
          ],
          "name": "stdout"
        }
      ]
    },
    {
      "cell_type": "markdown",
      "metadata": {
        "id": "q1sX5083dY3F",
        "colab_type": "text"
      },
      "source": [
        "Well, it turns out the former edges it by 0.1 sec or so. As you may know, engineering is a game of trade-offs. So you have to make sure that you consider the trade-off of clean, pythonic code over the seemingly non-significant drift in efficiency.\n",
        "\n",
        "I guess we can take the list comprehension over the c-style for loop"
      ]
    },
    {
      "cell_type": "markdown",
      "metadata": {
        "id": "ki8J_CI2ecuF",
        "colab_type": "text"
      },
      "source": [
        "## Compute the intersection of the two lists\n",
        "\n",
        "Make use of the `intersect1d` method to get the intersection of the lists using a vector computation. Take note of the time it takes to run."
      ]
    },
    {
      "cell_type": "code",
      "metadata": {
        "id": "oW_NI8mKdBRR",
        "colab_type": "code",
        "colab": {
          "base_uri": "https://localhost:8080/",
          "height": 51
        },
        "outputId": "4dd39eb4-127f-43da-803c-bf69c12dcaa5"
      },
      "source": [
        "start = time.time()\n",
        "recent_coding_books = np.intersect1d(recent_books, coding_books)\n",
        "\n",
        "print(len(recent_coding_books))\n",
        "print('Duration: {} seconds'.format(time.time() - start))"
      ],
      "execution_count": 11,
      "outputs": [
        {
          "output_type": "stream",
          "text": [
            "96\n",
            "Duration: 0.03350424766540527 seconds\n"
          ],
          "name": "stdout"
        }
      ]
    },
    {
      "cell_type": "markdown",
      "metadata": {
        "id": "uJTBCRqKfe7B",
        "colab_type": "text"
      },
      "source": [
        "Make use of the `intersection` method for the set data structure to get the intersection of the lists (common elements between the lists). Take note of the time it takes to run and compare it with the above."
      ]
    },
    {
      "cell_type": "code",
      "metadata": {
        "id": "6C04gXq3fW96",
        "colab_type": "code",
        "colab": {
          "base_uri": "https://localhost:8080/",
          "height": 51
        },
        "outputId": "d42195fc-81fd-4934-c36e-9dbfcc601860"
      },
      "source": [
        "start = time.time()\n",
        "recent_coding_books = set(recent_books).intersection(coding_books)\n",
        "print(len(recent_coding_books))\n",
        "print('Duration: {} seconds'.format(time.time() - start))"
      ],
      "execution_count": 12,
      "outputs": [
        {
          "output_type": "stream",
          "text": [
            "96\n",
            "Duration: 0.00590825080871582 seconds\n"
          ],
          "name": "stdout"
        }
      ]
    },
    {
      "cell_type": "markdown",
      "metadata": {
        "id": "eSTqLam1f0sk",
        "colab_type": "text"
      },
      "source": [
        "Welp, that doesn't seem significant but imagine you are doing this on a very large data set. Then you will start to figure out the significance of the performance boost of the set data structure (converting lists to set is very useful because membership testing in a set is vastly faster than that in a list, especially for large data sets ([source](https://stackoverflow.com/a/7717046))."
      ]
    },
    {
      "cell_type": "code",
      "metadata": {
        "id": "tUcTIylJfzSD",
        "colab_type": "code",
        "colab": {}
      },
      "source": [
        ""
      ],
      "execution_count": 0,
      "outputs": []
    }
  ]
}